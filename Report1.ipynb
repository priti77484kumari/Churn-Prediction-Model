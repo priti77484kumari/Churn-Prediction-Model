{
 "cells": [
  {
   "cell_type": "markdown",
   "id": "56739740-a424-45ab-a345-bf6cb7c9c0fc",
   "metadata": {},
   "source": [
    "# Predicting Customer Churn in a Telecommunications Company\n",
    "### Objective: The primary objective of this project is to develop a predictive model that can identif customers at risk of churning, enabling the company to take proactive measur to retain them"
   ]
  },
  {
   "cell_type": "markdown",
   "id": "88a8b73c-076c-4ce2-96ef-65112fa892f1",
   "metadata": {},
   "source": [
    "### Steps for predicting the model\n",
    "     1.Data Collection and Preprocessing\n",
    "     2.Exploratory Data Analysis (EDA)\n",
    "     3.Building the Churn Prediction Model\n",
    "     4.Model Evaluation\n",
    " \n",
    "#### Data is loaded from a CSV file and explored using methods like .head(), .tail(), .shape, .info(), and .describe()\n",
    "     Shape -- (7032, 31)\n",
    "     Data cleaning involves handling null values by dropping them, converting data types, and encoding categorical variables\n",
    "    -The markdown cell notes that the TotalCharges column has an incorrect data type and should be converted to a float\n",
    "     With use of proper fun TotalCharges was changed to float datatype\n",
    "    -NULL values in total charges was dropped \n",
    "    -Data transformation steps involve label encoding binary categorical variables and one-hot encoding multi-class categorical variables.\n",
    "    -The 'customerID' column is dropped as it does not contribute to model prediction.\n",
    "    -Gender column is encoded to numeric values (1 for Female, 0 for Male).\n",
    "## Exploratory Data Analysis (EDA) includes visualizations like countplots and histograms to understand the distribution of churn across various demographics and services.\n",
    "#### The types of visualizations used to analyze churn distribution across different categories include:\n",
    "    Countplot: A bar chart that shows the count of observations in each category, with the hue parameter used to differentiate churn and non-churn    instance \n",
    "    Histogram: A graphical representation of the distribution of numerical data, with churn and non-churn instances plotted on the same histogram for comparis Distibution of churn bewteen column were plotted\n",
    "\n",
    "### For buliding th model\n",
    "     Data were transformed and unwnated column were dropped\n",
    "     Data standardization is performed using the StandardScaler from scikit-learn.\n",
    "       -\n",
    "     The dataset is split into training and testing sets.\n",
    "     A logistic regression model is implemented from scratch with methods for fitting and predicting .\n",
    "     The model is trained and evaluated on both the training and testing datasets, with accuracy scores reported\n",
    "        Accuracy on training data :  0.7998222222222222\n",
    "        Accuracy on training data :  0.7931769722814499\n",
    "\n",
    "                  precision    recall  f1-score   support\r\n",
    "\r\n",
    "               0       0.85      0.87      0.86      1033\r\n",
    "               1       0.62      0.59      0.60       374\r\n",
    "\r",
    "    \n",
    "    accuracy                           0.79      140    7\r\n",
    "   macro avg       0.73      0.73      0.73          1407\r\n",
    "weighted avg       0.79      0.79      0.79     46785226\n",
    "\n",
    "\n",
    "        Fin\n",
    "     Finally, a predictive system is demonstrated by taking input data, standardizing it, making predictions using the trained model, and displaying   the churn prediction model\n",
    "\n",
    "\n",
    "      "
   ]
  },
  {
   "cell_type": "markdown",
   "id": "f142e5b9-a534-403f-bc80-f4b183e2fcf4",
   "metadata": {},
   "source": [
    "###  Conclusion\n",
    "    The logistic regression model was successfully implemented and trained to predict customer churn. Key findings and results includ\n",
    "    The model achieved satisfactory accuracy on both training and testing datasets.\n",
    "    The implementation from scratch helped in understanding the logistic regression mechanism.\n",
    "    Visualization techniques in the exploratory data analysis phase provided insights into the distribution and trends in the data, aiding feature selection and preprocessing steps.\n",
    "    The predictive system was demonstrated with an example, showing how the model can be used in a real-world scenario to predict whether a customer will churn based on input features."
   ]
  }
 ],
 "metadata": {
  "kernelspec": {
   "display_name": "Python 3 (ipykernel)",
   "language": "python",
   "name": "python3"
  },
  "language_info": {
   "codemirror_mode": {
    "name": "ipython",
    "version": 3
   },
   "file_extension": ".py",
   "mimetype": "text/x-python",
   "name": "python",
   "nbconvert_exporter": "python",
   "pygments_lexer": "ipython3",
   "version": "3.10.9"
  }
 },
 "nbformat": 4,
 "nbformat_minor": 5
}
